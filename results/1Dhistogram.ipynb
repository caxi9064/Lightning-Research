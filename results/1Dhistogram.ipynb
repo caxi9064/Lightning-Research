{
 "cells": [
  {
   "cell_type": "code",
   "execution_count": 4,
   "metadata": {},
   "outputs": [],
   "source": [
    "import scipy\n",
    "from scipy import stats\n",
    "import pandas as pd\n",
    "import matplotlib.pyplot as plt\n",
    "import numpy as np\n",
    "from mpl_toolkits.basemap import Basemap\n",
    "import os\n",
    "from scipy.io import loadmat, savemat\n",
    "from matplotlib.colors import LogNorm\n",
    "import time"
   ]
  },
  {
   "cell_type": "code",
   "execution_count": 5,
   "metadata": {},
   "outputs": [],
   "source": [
    "filepath = '/Volumes/Untitled/GLDdata/2015/'"
   ]
  },
  {
   "cell_type": "code",
   "execution_count": 6,
   "metadata": {},
   "outputs": [],
   "source": [
    "all2015Files = os.listdir(filepath)"
   ]
  },
  {
   "cell_type": "code",
   "execution_count": 10,
   "metadata": {},
   "outputs": [],
   "source": [
    "def PeakCurrentData(filepath):\n",
    "    firstFile = loadmat(filepath + all2015Files[0]).get(\"flashes\")\n",
    "    concat= firstFile[:,4]\n",
    "    for fileName in all2015Files[1:]:\n",
    "        mat_contents=loadmat(filepath+fileName, variable_names=['flashes']).get(\"flashes\")\n",
    "        concat = np.concatenate((concat,mat_contents[:,4]))\n",
    "    np.save(\"all2015Data\", concat)"
   ]
  },
  {
   "cell_type": "code",
   "execution_count": 5,
   "metadata": {},
   "outputs": [],
   "source": [
    "# filepath = '/Volumes/lairdata/lightningdata/GLD_cleaned/2016-01-02/GLD-201601020000-cleaned.mat'\n",
    "# mat = loadmat(filepath).get(\"flashes\")\n",
    "peak_current = np.load('all2015Data.npy')"
   ]
  },
  {
   "cell_type": "code",
   "execution_count": 55,
   "metadata": {},
   "outputs": [],
   "source": [
    "def plot1DHist(peak_current):\n",
    "    fig, ax = plt.subplots(figsize =(10, 8), tight_layout = True)\n",
    "    ax.grid(color ='grey',linestyle ='-.', linewidth = 0.5, alpha = 0.6)\n",
    "    ax.set_yscale('log')\n",
    "    #colors = ['aqua', 'red', 'gold', 'royalblue', 'darkorange', 'green', 'purple', 'cyan', 'yellow', 'lime']\n",
    "    #cnts, values, bars = ax.hist(peak_current, bins = 20)\n",
    "    plt.axvline(np.median(peak_current), color='k', linestyle='dashed', linewidth=1, label = \"Median Peak Current [kA]\")\n",
    "    \n",
    "    # This is  the colormap I'd like to use.\n",
    "    cm = plt.cm.plasma\n",
    "    # Get the histogramp\n",
    "    Y,X = np.histogram(peak_current, 50)\n",
    "    x_span = X.max()-X.min()\n",
    "    C = [cm(((x-X.min())/x_span)) for x in X]\n",
    "    \n",
    "    plt.style.use('seaborn-dark')\n",
    "    plt.bar(X[:-1],Y,color=C,width=X[1]-X[0])\n",
    "    plt.xlabel(\"Peak Current [kA]\", fontsize = 20, color=\"black\")\n",
    "    plt.ylabel(\"Frequency\", fontsize = 20, color=\"black\")\n",
    "    plt.title(\"Frequency of Peak Currents 2015\", fontsize = 20, color=\"black\")\n",
    "    plt.legend()\n",
    "    \n",
    "    #plt.savefig('./2DHistogramData/winterPlots.png') # saving plot\n",
    "    plt.show();"
   ]
  },
  {
   "cell_type": "code",
   "execution_count": 47,
   "metadata": {},
   "outputs": [
    {
     "name": "stdout",
     "output_type": "stream",
     "text": [
      "['Solarize_Light2', '_classic_test_patch', '_mpl-gallery', '_mpl-gallery-nogrid', 'bmh', 'classic', 'dark_background', 'fast', 'fivethirtyeight', 'ggplot', 'grayscale', 'seaborn', 'seaborn-bright', 'seaborn-colorblind', 'seaborn-dark', 'seaborn-dark-palette', 'seaborn-darkgrid', 'seaborn-deep', 'seaborn-muted', 'seaborn-notebook', 'seaborn-paper', 'seaborn-pastel', 'seaborn-poster', 'seaborn-talk', 'seaborn-ticks', 'seaborn-white', 'seaborn-whitegrid', 'tableau-colorblind10']\n"
     ]
    }
   ],
   "source": [
    "print(plt.style.available)"
   ]
  },
  {
   "cell_type": "code",
   "execution_count": 56,
   "metadata": {},
   "outputs": [
    {
     "ename": "KeyboardInterrupt",
     "evalue": "",
     "output_type": "error",
     "traceback": [
      "\u001b[0;31m---------------------------------------------------------------------------\u001b[0m",
      "\u001b[0;31mKeyboardInterrupt\u001b[0m                         Traceback (most recent call last)",
      "\u001b[1;32m/Users/catherinexiao/Desktop/LightningResearch/results/1Dhistogram.ipynb Cell 8\u001b[0m in \u001b[0;36m<cell line: 1>\u001b[0;34m()\u001b[0m\n\u001b[0;32m----> <a href='vscode-notebook-cell:/Users/catherinexiao/Desktop/LightningResearch/results/1Dhistogram.ipynb#ch0000029?line=0'>1</a>\u001b[0m plot1DHist(peak_current)\n",
      "\u001b[1;32m/Users/catherinexiao/Desktop/LightningResearch/results/1Dhistogram.ipynb Cell 8\u001b[0m in \u001b[0;36mplot1DHist\u001b[0;34m(peak_current)\u001b[0m\n\u001b[1;32m      <a href='vscode-notebook-cell:/Users/catherinexiao/Desktop/LightningResearch/results/1Dhistogram.ipynb#ch0000029?line=3'>4</a>\u001b[0m ax\u001b[39m.\u001b[39mset_yscale(\u001b[39m'\u001b[39m\u001b[39mlog\u001b[39m\u001b[39m'\u001b[39m)\n\u001b[1;32m      <a href='vscode-notebook-cell:/Users/catherinexiao/Desktop/LightningResearch/results/1Dhistogram.ipynb#ch0000029?line=4'>5</a>\u001b[0m \u001b[39m#colors = ['aqua', 'red', 'gold', 'royalblue', 'darkorange', 'green', 'purple', 'cyan', 'yellow', 'lime']\u001b[39;00m\n\u001b[1;32m      <a href='vscode-notebook-cell:/Users/catherinexiao/Desktop/LightningResearch/results/1Dhistogram.ipynb#ch0000029?line=5'>6</a>\u001b[0m \u001b[39m#cnts, values, bars = ax.hist(peak_current, bins = 20)\u001b[39;00m\n\u001b[0;32m----> <a href='vscode-notebook-cell:/Users/catherinexiao/Desktop/LightningResearch/results/1Dhistogram.ipynb#ch0000029?line=6'>7</a>\u001b[0m plt\u001b[39m.\u001b[39maxvline(np\u001b[39m.\u001b[39;49mmedian(peak_current), color\u001b[39m=\u001b[39m\u001b[39m'\u001b[39m\u001b[39mk\u001b[39m\u001b[39m'\u001b[39m, linestyle\u001b[39m=\u001b[39m\u001b[39m'\u001b[39m\u001b[39mdashed\u001b[39m\u001b[39m'\u001b[39m, linewidth\u001b[39m=\u001b[39m\u001b[39m1\u001b[39m, label \u001b[39m=\u001b[39m \u001b[39m\"\u001b[39m\u001b[39mMedian Peak Current [kA]\u001b[39m\u001b[39m\"\u001b[39m)\n\u001b[1;32m      <a href='vscode-notebook-cell:/Users/catherinexiao/Desktop/LightningResearch/results/1Dhistogram.ipynb#ch0000029?line=8'>9</a>\u001b[0m \u001b[39m# This is  the colormap I'd like to use.\u001b[39;00m\n\u001b[1;32m     <a href='vscode-notebook-cell:/Users/catherinexiao/Desktop/LightningResearch/results/1Dhistogram.ipynb#ch0000029?line=9'>10</a>\u001b[0m cm \u001b[39m=\u001b[39m plt\u001b[39m.\u001b[39mcm\u001b[39m.\u001b[39mplasma\n",
      "File \u001b[0;32m<__array_function__ internals>:180\u001b[0m, in \u001b[0;36mmedian\u001b[0;34m(*args, **kwargs)\u001b[0m\n",
      "File \u001b[0;32m~/opt/anaconda3/envs/map_env/lib/python3.9/site-packages/numpy/lib/function_base.py:3793\u001b[0m, in \u001b[0;36mmedian\u001b[0;34m(a, axis, out, overwrite_input, keepdims)\u001b[0m\n\u001b[1;32m   3711\u001b[0m \u001b[39m@array_function_dispatch\u001b[39m(_median_dispatcher)\n\u001b[1;32m   3712\u001b[0m \u001b[39mdef\u001b[39;00m \u001b[39mmedian\u001b[39m(a, axis\u001b[39m=\u001b[39m\u001b[39mNone\u001b[39;00m, out\u001b[39m=\u001b[39m\u001b[39mNone\u001b[39;00m, overwrite_input\u001b[39m=\u001b[39m\u001b[39mFalse\u001b[39;00m, keepdims\u001b[39m=\u001b[39m\u001b[39mFalse\u001b[39;00m):\n\u001b[1;32m   3713\u001b[0m     \u001b[39m\"\"\"\u001b[39;00m\n\u001b[1;32m   3714\u001b[0m \u001b[39m    Compute the median along the specified axis.\u001b[39;00m\n\u001b[1;32m   3715\u001b[0m \n\u001b[0;32m   (...)\u001b[0m\n\u001b[1;32m   3791\u001b[0m \n\u001b[1;32m   3792\u001b[0m \u001b[39m    \"\"\"\u001b[39;00m\n\u001b[0;32m-> 3793\u001b[0m     r, k \u001b[39m=\u001b[39m _ureduce(a, func\u001b[39m=\u001b[39;49m_median, axis\u001b[39m=\u001b[39;49maxis, out\u001b[39m=\u001b[39;49mout,\n\u001b[1;32m   3794\u001b[0m                     overwrite_input\u001b[39m=\u001b[39;49moverwrite_input)\n\u001b[1;32m   3795\u001b[0m     \u001b[39mif\u001b[39;00m keepdims:\n\u001b[1;32m   3796\u001b[0m         \u001b[39mreturn\u001b[39;00m r\u001b[39m.\u001b[39mreshape(k)\n",
      "File \u001b[0;32m~/opt/anaconda3/envs/map_env/lib/python3.9/site-packages/numpy/lib/function_base.py:3702\u001b[0m, in \u001b[0;36m_ureduce\u001b[0;34m(a, func, **kwargs)\u001b[0m\n\u001b[1;32m   3699\u001b[0m \u001b[39melse\u001b[39;00m:\n\u001b[1;32m   3700\u001b[0m     keepdim \u001b[39m=\u001b[39m (\u001b[39m1\u001b[39m,) \u001b[39m*\u001b[39m a\u001b[39m.\u001b[39mndim\n\u001b[0;32m-> 3702\u001b[0m r \u001b[39m=\u001b[39m func(a, \u001b[39m*\u001b[39;49m\u001b[39m*\u001b[39;49mkwargs)\n\u001b[1;32m   3703\u001b[0m \u001b[39mreturn\u001b[39;00m r, keepdim\n",
      "File \u001b[0;32m~/opt/anaconda3/envs/map_env/lib/python3.9/site-packages/numpy/lib/function_base.py:3828\u001b[0m, in \u001b[0;36m_median\u001b[0;34m(a, axis, out, overwrite_input)\u001b[0m\n\u001b[1;32m   3826\u001b[0m         part \u001b[39m=\u001b[39m a\n\u001b[1;32m   3827\u001b[0m \u001b[39melse\u001b[39;00m:\n\u001b[0;32m-> 3828\u001b[0m     part \u001b[39m=\u001b[39m partition(a, kth, axis\u001b[39m=\u001b[39;49maxis)\n\u001b[1;32m   3830\u001b[0m \u001b[39mif\u001b[39;00m part\u001b[39m.\u001b[39mshape \u001b[39m==\u001b[39m ():\n\u001b[1;32m   3831\u001b[0m     \u001b[39m# make 0-D arrays work\u001b[39;00m\n\u001b[1;32m   3832\u001b[0m     \u001b[39mreturn\u001b[39;00m part\u001b[39m.\u001b[39mitem()\n",
      "File \u001b[0;32m<__array_function__ internals>:180\u001b[0m, in \u001b[0;36mpartition\u001b[0;34m(*args, **kwargs)\u001b[0m\n",
      "File \u001b[0;32m~/opt/anaconda3/envs/map_env/lib/python3.9/site-packages/numpy/core/fromnumeric.py:754\u001b[0m, in \u001b[0;36mpartition\u001b[0;34m(a, kth, axis, kind, order)\u001b[0m\n\u001b[1;32m    669\u001b[0m \u001b[39m\"\"\"\u001b[39;00m\n\u001b[1;32m    670\u001b[0m \u001b[39mReturn a partitioned copy of an array.\u001b[39;00m\n\u001b[1;32m    671\u001b[0m \n\u001b[0;32m   (...)\u001b[0m\n\u001b[1;32m    750\u001b[0m \n\u001b[1;32m    751\u001b[0m \u001b[39m\"\"\"\u001b[39;00m\n\u001b[1;32m    752\u001b[0m \u001b[39mif\u001b[39;00m axis \u001b[39mis\u001b[39;00m \u001b[39mNone\u001b[39;00m:\n\u001b[1;32m    753\u001b[0m     \u001b[39m# flatten returns (1, N) for np.matrix, so always use the last axis\u001b[39;00m\n\u001b[0;32m--> 754\u001b[0m     a \u001b[39m=\u001b[39m asanyarray(a)\u001b[39m.\u001b[39;49mflatten()\n\u001b[1;32m    755\u001b[0m     axis \u001b[39m=\u001b[39m \u001b[39m-\u001b[39m\u001b[39m1\u001b[39m\n\u001b[1;32m    756\u001b[0m \u001b[39melse\u001b[39;00m:\n",
      "\u001b[0;31mKeyboardInterrupt\u001b[0m: "
     ]
    },
    {
     "data": {
      "image/png": "[encoded data removed]",
      "text/plain": [
       "<Figure size 720x576 with 1 Axes>"
      ]
     },
     "metadata": {},
     "output_type": "display_data"
    }
   ],
   "source": [
    "plot1DHist(peak_current)"
   ]
  },
  {
   "cell_type": "code",
   "execution_count": 14,
   "metadata": {},
   "outputs": [],
   "source": [
    "# # + operator to join 1d list\n",
    "# start = time.time()\n",
    "# test1 = []\n",
    "\n",
    "# for i in range(40):\n",
    "#     arr1 = np.array([i for i in range(10000000)])\n",
    "#     arr1 = arr1.tolist()\n",
    "#     test1 += arr1\n",
    "# end = time.time()\n",
    "# print(end-start)\n",
    "\n",
    "# # numpy concat 1d array\n",
    "# start = time.time()\n",
    "# t2 = np.array([1,2,3,4])\n",
    "# a = np.array([i for i in range(10000000)])\n",
    "# for i in range(40):\n",
    "#     t2 = np.concatenate([t2,a])\n",
    "# end = time.time()\n",
    "# print(end-start)\n"
   ]
  },
  {
   "cell_type": "code",
   "execution_count": 9,
   "metadata": {},
   "outputs": [],
   "source": [
    "# # + operator to join 2d list\n",
    "# start = time.time()\n",
    "# test4 = [[1,2,3,4]]\n",
    "# for i in range(40):\n",
    "#     arr4 = np.array([[1,2,3,4] for i in range(10000000)])\n",
    "#     arr4 = arr4.tolist()\n",
    "#     test4 += arr4\n",
    "# end = time.time()\n",
    "# print(end-start)\n",
    "\n",
    "# # numpy concat 2d array\n",
    "# start = time.time()\n",
    "# t3 = np.array([[1,2,3,4]])\n",
    "# arr = np.array([[1,2,3,4] for i in range(10000000)])\n",
    "# for i in range(40):\n",
    "#     t3 = np.concatenate([t3,arr])\n",
    "# end = time.time()\n",
    "# print(end-start)"
   ]
  },
  {
   "cell_type": "code",
   "execution_count": 3,
   "metadata": {},
   "outputs": [
    {
     "name": "stdout",
     "output_type": "stream",
     "text": [
      "6.973003149032593\n",
      "5.721013069152832\n"
     ]
    }
   ],
   "source": [
    "# # numpy concat 2d array\n",
    "# start = time.time()\n",
    "# t3 = np.array([[1,2,3,4]])\n",
    "# for i in range(40):\n",
    "#     arr = np.array([[1,2,3,4] for i in range(100000)])\n",
    "#     t3 = np.concatenate([t3,arr])\n",
    "# end = time.time()\n",
    "# print(end-start)"
   ]
  },
  {
   "cell_type": "code",
   "execution_count": null,
   "metadata": {},
   "outputs": [],
   "source": [
    "# start = time.time()\n",
    "# t5 = np.array([1,2])\n",
    "# for i in range(40):\n",
    "#     arr = np.array([[1,2,3,4] for i in range(100000)])\n",
    "#     t5 = np.concatenate([t5,arr[:,3]])\n",
    "# end = time.time()\n",
    "# print(end-start)"
   ]
  }
 ],
 "metadata": {
  "kernelspec": {
   "display_name": "Python 3.9.12 ('map_env')",
   "language": "python",
   "name": "python3"
  },
  "language_info": {
   "codemirror_mode": {
    "name": "ipython",
    "version": 3
   },
   "file_extension": ".py",
   "mimetype": "text/x-python",
   "name": "python",
   "nbconvert_exporter": "python",
   "pygments_lexer": "ipython3",
   "version": "3.9.12"
  },
  "orig_nbformat": 4,
  "vscode": {
   "interpreter": {
    "hash": "35b48ccf1efdf542d8c408041a4481d5e166f9322e0b2d2f2392055c351d783c"
   }
  }
 },
 "nbformat": 4,
 "nbformat_minor": 2
}

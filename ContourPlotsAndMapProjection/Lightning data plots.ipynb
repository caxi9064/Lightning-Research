{
 "cells": [
  {
   "cell_type": "code",
   "execution_count": 1,
   "id": "dc61ecf0",
   "metadata": {},
   "outputs": [
    {
     "ename": "ModuleNotFoundError",
     "evalue": "No module named 'geopandas'",
     "output_type": "error",
     "traceback": [
      "\u001b[0;31m---------------------------------------------------------------------------\u001b[0m",
      "\u001b[0;31mModuleNotFoundError\u001b[0m                       Traceback (most recent call last)",
      "Input \u001b[0;32mIn [1]\u001b[0m, in \u001b[0;36m<cell line: 2>\u001b[0;34m()\u001b[0m\n\u001b[1;32m      1\u001b[0m \u001b[38;5;28;01mimport\u001b[39;00m \u001b[38;5;21;01mscipy\u001b[39;00m\u001b[38;5;21;01m.\u001b[39;00m\u001b[38;5;21;01mio\u001b[39;00m \u001b[38;5;28;01mas\u001b[39;00m \u001b[38;5;21;01msio\u001b[39;00m\n\u001b[0;32m----> 2\u001b[0m \u001b[38;5;28;01mimport\u001b[39;00m \u001b[38;5;21;01mgeopandas\u001b[39;00m \u001b[38;5;28;01mas\u001b[39;00m \u001b[38;5;21;01mgpd\u001b[39;00m\n\u001b[1;32m      3\u001b[0m \u001b[38;5;28;01mimport\u001b[39;00m \u001b[38;5;21;01mpandas\u001b[39;00m \u001b[38;5;28;01mas\u001b[39;00m \u001b[38;5;21;01mpd\u001b[39;00m\n\u001b[1;32m      4\u001b[0m \u001b[38;5;28;01mimport\u001b[39;00m \u001b[38;5;21;01mnumpy\u001b[39;00m \u001b[38;5;28;01mas\u001b[39;00m \u001b[38;5;21;01mnp\u001b[39;00m\n",
      "\u001b[0;31mModuleNotFoundError\u001b[0m: No module named 'geopandas'"
     ]
    }
   ],
   "source": [
    "import scipy.io as sio\n",
    "import geopandas as gpd\n",
    "import pandas as pd\n",
    "import numpy as np"
   ]
  },
  {
   "cell_type": "markdown",
   "id": "daa8e902",
   "metadata": {},
   "source": [
    "Organizing data into dataframe and then converting to a csv file:"
   ]
  },
  {
   "cell_type": "code",
   "execution_count": 3,
   "id": "8b509a5c",
   "metadata": {},
   "outputs": [
    {
     "name": "stdout",
     "output_type": "stream",
     "text": [
      "{'__header__': b'MATLAB 5.0 MAT-file Platform: posix, Created on: Thu Apr 18 09:01:03 2019', '__version__': '1.0', '__globals__': [], 'flashes': array([[ 1.53111600e+09,  1.17040890e+07,  7.47380000e+00,\n",
      "        -7.60386000e+01, -1.20000000e+01],\n",
      "       [ 1.53111600e+09,  1.32579460e+07,  4.62923000e+01,\n",
      "        -9.73457000e+01,  8.00000000e+00],\n",
      "       [ 1.53111600e+09,  3.21334590e+07,  7.40210000e+00,\n",
      "        -7.61140000e+01, -7.00000000e+00],\n",
      "       ...,\n",
      "       [ 1.53118624e+09,  8.62316075e+08,  1.01908000e+01,\n",
      "         7.88080000e+00, -1.60000000e+01],\n",
      "       [ 1.53118624e+09,  8.69153322e+08,  1.91294000e+01,\n",
      "        -9.11138000e+01, -3.40000000e+01],\n",
      "       [ 1.53118624e+09,  8.77433396e+08,  2.89501000e+01,\n",
      "        -8.23140000e+01, -1.60000000e+01]]), 'errors': array([[1]]), 'line_length_errors': array([[1]]), 'datetime_errors': array([[0]]), 'bounds_errors': array([[0]]), 'duplicates': array([[0]])}\n"
     ]
    }
   ],
   "source": [
    "mat_contents = sio.loadmat('GLD20180709cleaned.mat') \n",
    "print(mat_contents)\n",
    "# UTC timestamp, <not used>, latitude, longitude, peak current"
   ]
  },
  {
   "cell_type": "code",
   "execution_count": 4,
   "id": "b41cfbe9",
   "metadata": {},
   "outputs": [
    {
     "data": {
      "text/html": [
       "<div>\n",
       "<style scoped>\n",
       "    .dataframe tbody tr th:only-of-type {\n",
       "        vertical-align: middle;\n",
       "    }\n",
       "\n",
       "    .dataframe tbody tr th {\n",
       "        vertical-align: top;\n",
       "    }\n",
       "\n",
       "    .dataframe thead th {\n",
       "        text-align: right;\n",
       "    }\n",
       "</style>\n",
       "<table border=\"1\" class=\"dataframe\">\n",
       "  <thead>\n",
       "    <tr style=\"text-align: right;\">\n",
       "      <th></th>\n",
       "      <th>UTC timestamp</th>\n",
       "      <th>nanoseconds</th>\n",
       "      <th>lat</th>\n",
       "      <th>lon</th>\n",
       "      <th>Peak Current[kA]</th>\n",
       "    </tr>\n",
       "  </thead>\n",
       "  <tbody>\n",
       "    <tr>\n",
       "      <th>0</th>\n",
       "      <td>1.531116e+09</td>\n",
       "      <td>11704089.0</td>\n",
       "      <td>7.4738</td>\n",
       "      <td>-76.0386</td>\n",
       "      <td>-12.0</td>\n",
       "    </tr>\n",
       "    <tr>\n",
       "      <th>1</th>\n",
       "      <td>1.531116e+09</td>\n",
       "      <td>13257946.0</td>\n",
       "      <td>46.2923</td>\n",
       "      <td>-97.3457</td>\n",
       "      <td>8.0</td>\n",
       "    </tr>\n",
       "    <tr>\n",
       "      <th>2</th>\n",
       "      <td>1.531116e+09</td>\n",
       "      <td>32133459.0</td>\n",
       "      <td>7.4021</td>\n",
       "      <td>-76.1140</td>\n",
       "      <td>-7.0</td>\n",
       "    </tr>\n",
       "    <tr>\n",
       "      <th>3</th>\n",
       "      <td>1.531116e+09</td>\n",
       "      <td>64215155.0</td>\n",
       "      <td>2.1522</td>\n",
       "      <td>22.1624</td>\n",
       "      <td>-18.0</td>\n",
       "    </tr>\n",
       "    <tr>\n",
       "      <th>4</th>\n",
       "      <td>1.531116e+09</td>\n",
       "      <td>72244121.0</td>\n",
       "      <td>13.6076</td>\n",
       "      <td>84.3345</td>\n",
       "      <td>41.0</td>\n",
       "    </tr>\n",
       "  </tbody>\n",
       "</table>\n",
       "</div>"
      ],
      "text/plain": [
       "   UTC timestamp  nanoseconds      lat      lon  Peak Current[kA]\n",
       "0   1.531116e+09   11704089.0   7.4738 -76.0386             -12.0\n",
       "1   1.531116e+09   13257946.0  46.2923 -97.3457               8.0\n",
       "2   1.531116e+09   32133459.0   7.4021 -76.1140              -7.0\n",
       "3   1.531116e+09   64215155.0   2.1522  22.1624             -18.0\n",
       "4   1.531116e+09   72244121.0  13.6076  84.3345              41.0"
      ]
     },
     "execution_count": 4,
     "metadata": {},
     "output_type": "execute_result"
    }
   ],
   "source": [
    "#print(mat_contents.keys())\n",
    "data = mat_contents.get(\"flashes\")\n",
    "np_array = np.array(data)\n",
    "df = pd.DataFrame(np_array, columns=['UTC timestamp', 'nanoseconds', 'lat', 'lon', 'Peak Current[kA]'])\n",
    "df.head()"
   ]
  },
  {
   "cell_type": "code",
   "execution_count": 5,
   "id": "1a13f353",
   "metadata": {},
   "outputs": [],
   "source": [
    "#df = df.iloc[:,2:]\n",
    "#df.to_csv('cleaned_data.csv')"
   ]
  },
  {
   "cell_type": "markdown",
   "id": "f6b25c47",
   "metadata": {},
   "source": [
    "Using geopandas:"
   ]
  },
  {
   "cell_type": "code",
   "execution_count": 6,
   "id": "e8ec26ad",
   "metadata": {},
   "outputs": [],
   "source": [
    "geometry = [Point(xy) for xy in zip(df[\"lon\"], df[\"lat\"])]"
   ]
  },
  {
   "cell_type": "code",
   "execution_count": null,
   "id": "5b8cfb53",
   "metadata": {},
   "outputs": [],
   "source": [
    "world = gpd.read_file(gpd.datasets.get_path('naturalearth_lowres'))\n",
    "cities = gpd.read_file(gpd.datasets.get_path('naturalearth_cities'))\n",
    "cities.loc[cities['geometry'].isin(geometry)]\n",
    "#world.head()"
   ]
  },
  {
   "cell_type": "code",
   "execution_count": null,
   "id": "4b39934a",
   "metadata": {},
   "outputs": [],
   "source": [
    "print(cities)"
   ]
  },
  {
   "cell_type": "code",
   "execution_count": null,
   "id": "cf1d8bdf",
   "metadata": {},
   "outputs": [],
   "source": [
    "#creating geopandas dataframe \n",
    "gdf = gpd.GeoDataFrame(df, geometry=gpd.points_from_xy(df.lon, df.lat))\n",
    "#print(gdf)\n",
    "#merged_data= world.merge(df, on=[\"latitude\",\"longitude\"])"
   ]
  },
  {
   "cell_type": "code",
   "execution_count": null,
   "id": "f70ad473",
   "metadata": {},
   "outputs": [],
   "source": [
    "# world=world[world.name!=\"Antarctica\"]\n",
    "# fig, ax = plt.subplots(1, 1, figsize=(15,15))\n",
    "# world.plot(ax=ax, legend=True, legend_kwds={'shrink': 0.4})\n",
    "gdf.plot(ax = world.plot(figsize=(15,15)))"
   ]
  },
  {
   "cell_type": "markdown",
   "id": "0577182b",
   "metadata": {},
   "source": [
    "Using geoplotlib to create visualizations:"
   ]
  },
  {
   "cell_type": "code",
   "execution_count": null,
   "id": "380644ea",
   "metadata": {},
   "outputs": [],
   "source": [
    "data = pd.read_csv('cleaned_data.csv')"
   ]
  },
  {
   "cell_type": "code",
   "execution_count": null,
   "id": "f1a7ba33",
   "metadata": {},
   "outputs": [],
   "source": [
    "# Dot Map\n",
    "#geoplotlib.dot(data)\n",
    "#geoplotlib.show()"
   ]
  },
  {
   "cell_type": "code",
   "execution_count": null,
   "id": "cfc4aa5a",
   "metadata": {},
   "outputs": [],
   "source": [
    "#2d Histogram\n",
    "# geoplotlib.hist(data, colorscale='sqrt', binsize=8)\n",
    "# geoplotlib.set_bbox(BoundingBox.DK)\n",
    "# geoplotlib.show()"
   ]
  },
  {
   "cell_type": "code",
   "execution_count": null,
   "id": "9695bc46",
   "metadata": {},
   "outputs": [],
   "source": []
  }
 ],
 "metadata": {
  "interpreter": {
   "hash": "dfc83d69526123c35e18a82dc189a49301c295d2154b5b6374e58a269aeacdc7"
  },
  "kernelspec": {
   "display_name": "Python 3 (ipykernel)",
   "language": "python",
   "name": "python3"
  },
  "language_info": {
   "codemirror_mode": {
    "name": "ipython",
    "version": 3
   },
   "file_extension": ".py",
   "mimetype": "text/x-python",
   "name": "python",
   "nbconvert_exporter": "python",
   "pygments_lexer": "ipython3",
   "version": "3.9.12"
  }
 },
 "nbformat": 4,
 "nbformat_minor": 5
}
